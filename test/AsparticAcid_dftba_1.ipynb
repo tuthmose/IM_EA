{
 "cells": [
  {
   "cell_type": "markdown",
   "metadata": {},
   "source": [
    "# Aspartic acid benchmark\n",
    "\n",
    "- Load reference trajectories (doi: 10.1063/1.4979519):\n",
    "    - 'DFT': original reference geometries at B3LYP/6-311++G** *without* empirical dispersion\n",
    "    - 'DFT2': original reference geometries reoptimized with empirical dispersion\n",
    "    - 'MP2': original reference geometries at MP2/6-311++G**\n",
    "    \n",
    "- Load search data\n",
    "    - Separate and count error files\n",
    "    - Parse G16 log files and load:\n",
    "    - cartesian coordinates in mdraj trajectory\n",
    "    - rotatable bonds and energy in pandas dataframe\n",
    "    - fit traj to first frame\n",
    "    \n",
    "- Calc RMSD matrix (n_search, n_ref): for each structure in search data count the number of structures within cutoff of a point in ref. data and viceversa; print number of points in ref. data without neighbours; print number of points in search data without ref.\n"
   ]
  },
  {
   "cell_type": "markdown",
   "metadata": {},
   "source": [
    "## Load modules and set paths"
   ]
  },
  {
   "cell_type": "code",
   "execution_count": 1,
   "metadata": {},
   "outputs": [],
   "source": [
    "import matplotlib as mpl\n",
    "import matplotlib.pyplot as plt\n",
    "import mdtraj as md\n",
    "import numpy as np\n",
    "import os\n",
    "import pandas as pd\n",
    "import re\n",
    "import scipy as sp\n",
    "import subprocess as sub\n",
    "import sys\n",
    "from scipy import constants\n",
    "import seaborn as sb\n",
    "from sklearn.decomposition import PCA\n",
    "import sklearn.preprocessing as prep\n",
    "import sklearn.metrics as skmetrics\n",
    "from matplotlib.ticker import MaxNLocator\n",
    "import MDAnalysis as MDA\n",
    "import MDAnalysis.analysis.rms as MDArms"
   ]
  },
  {
   "cell_type": "code",
   "execution_count": 2,
   "metadata": {},
   "outputs": [],
   "source": [
    "%load_ext autoreload\n",
    "sys.path.append(\"/home/gmancini/Dropbox/appunti/old_search_algos_28_08_2020/EvolutionaryAlgorithms/src\")\n",
    "sys.path.append(\"/home/gmancini/Dropbox/appunti/old_search_algos_28_08_2020/molecule_utils\")\n",
    "sys.path.append(\"/home/gmancini/Dropbox/appunti/Clustering/src/\")\n",
    "import zmatrix, ga_utils, cluster_utils, gau_parser, ga_population, create_db, metaea_utils, load_store\n",
    "import myclusters, myvalidation\n",
    "sys.path.append(\"/home/gmancini/data/devel/ML/Systems_for_paper2/AsparticAcid\")\n",
    "%autoreload 2"
   ]
  },
  {
   "cell_type": "code",
   "execution_count": 3,
   "metadata": {},
   "outputs": [
    {
     "data": {
      "text/plain": [
       "2625.4996394798254"
      ]
     },
     "execution_count": 3,
     "metadata": {},
     "output_type": "execute_result"
    }
   ],
   "source": [
    "har2kjmol = constants.physical_constants[\"Avogadro constant\"][0]\\\n",
    "*constants.physical_constants[\"Hartree energy\"][0]/1000.\n",
    "har2kjmol"
   ]
  },
  {
   "cell_type": "code",
   "execution_count": 4,
   "metadata": {},
   "outputs": [],
   "source": [
    "top_dir = \"/home/gmancini/data/devel/ML/Systems_for_paper2/AsparticAcid\""
   ]
  },
  {
   "cell_type": "code",
   "execution_count": 5,
   "metadata": {},
   "outputs": [],
   "source": [
    "os.chdir(top_dir)"
   ]
  },
  {
   "cell_type": "code",
   "execution_count": 6,
   "metadata": {},
   "outputs": [],
   "source": [
    "def make_data(cutoff, traj1, traj2, RMSD):\n",
    "    windows = np.arange(0,traj2.n_frames,50)\n",
    "    data = np.empty((len(windows),7))\n",
    "    for w,W in enumerate(windows):\n",
    "        neighs = np.empty(traj1.n_frames,dtype='int')\n",
    "        for ref_frame in range(traj1.n_frames):\n",
    "            RR = RMSD[ref_frame,:W]\n",
    "            within = RR[RR <= cutoff]\n",
    "            neighs[ref_frame] = len(within)\n",
    "        not_found = traj1.n_frames - np.count_nonzero(neighs)\n",
    "        if not_found > 0:\n",
    "            low_e  = np.count_nonzero(Energy[np.where([neighs==0])[1],3]<=15.)\n",
    "            min_e = np.min(Energy[np.where([neighs==0])[1],3])\n",
    "            ave_e = np.mean(Energy[np.where([neighs==0])[1],3])\n",
    "            std_e = np.std(Energy[np.where([neighs==0])[1],3])\n",
    "            sum_e = np.sum(Energy[np.where([neighs==0])[1],3])\n",
    "        else:\n",
    "            low_e = 0.\n",
    "            min_e = 0.\n",
    "            ave_e = 0.\n",
    "            std_e = 0.\n",
    "            sum_e = 0.           \n",
    "        data[w] = [W, not_found, min_e, sum_e, ave_e, std_e, low_e]\n",
    "    return data,neighs"
   ]
  },
  {
   "cell_type": "markdown",
   "metadata": {},
   "source": [
    "## Load reference data"
   ]
  },
  {
   "cell_type": "code",
   "execution_count": 7,
   "metadata": {},
   "outputs": [
    {
     "data": {
      "text/plain": [
       "<mdtraj.Trajectory with 19 frames, 16 atoms, 1 residues, without unitcells at 0x7f36643682b0>"
      ]
     },
     "execution_count": 7,
     "metadata": {},
     "output_type": "execute_result"
    }
   ],
   "source": [
    "ref_dft = md.load(\"traj_b3lyp_superposed.pdb\")\n",
    "ref_dft"
   ]
  },
  {
   "cell_type": "code",
   "execution_count": 8,
   "metadata": {},
   "outputs": [
    {
     "data": {
      "text/plain": [
       "<mdtraj.Topology with 1 chains, 1 residues, 16 atoms, 15 bonds at 0x7f36658ac820>"
      ]
     },
     "execution_count": 8,
     "metadata": {},
     "output_type": "execute_result"
    }
   ],
   "source": [
    "topology = ref_dft.topology\n",
    "topology"
   ]
  },
  {
   "cell_type": "code",
   "execution_count": 9,
   "metadata": {},
   "outputs": [
    {
     "data": {
      "text/plain": [
       "array([14.00672 ,  1.007947,  1.007947, 12.01078 ,  1.007947, 12.01078 ,\n",
       "        1.007947,  1.007947, 12.01078 , 15.99943 , 15.99943 ,  1.007947,\n",
       "       12.01078 , 15.99943 , 15.99943 ,  1.007947], dtype=float32)"
      ]
     },
     "execution_count": 9,
     "metadata": {},
     "output_type": "execute_result"
    }
   ],
   "source": [
    "atmass = np.array([a.element.mass for a in topology.atoms],dtype=np.float32)\n",
    "atmass"
   ]
  },
  {
   "cell_type": "code",
   "execution_count": 10,
   "metadata": {},
   "outputs": [
    {
     "data": {
      "text/plain": [
       "array([ 0,  3,  5,  8,  9, 10, 12, 13, 14])"
      ]
     },
     "execution_count": 10,
     "metadata": {},
     "output_type": "execute_result"
    }
   ],
   "source": [
    "heavyat = topology.select(\"(symbol =~ C) or (symbol =~ O) or (symbol =~ N)\")\n",
    "heavyat"
   ]
  },
  {
   "cell_type": "code",
   "execution_count": 11,
   "metadata": {},
   "outputs": [],
   "source": [
    "use_polar_hydrogens = True"
   ]
  },
  {
   "cell_type": "code",
   "execution_count": 12,
   "metadata": {},
   "outputs": [],
   "source": [
    "if use_polar_hydrogens:\n",
    "    atom_indices = np.append(heavyat,[1,11,15])"
   ]
  },
  {
   "cell_type": "code",
   "execution_count": 13,
   "metadata": {},
   "outputs": [
    {
     "data": {
      "text/plain": [
       "<mdtraj.Trajectory with 19 frames, 16 atoms, 1 residues, without unitcells at 0x7f36640203d0>"
      ]
     },
     "execution_count": 13,
     "metadata": {},
     "output_type": "execute_result"
    }
   ],
   "source": [
    "ref_mp2 = md.load(\"traj_mp2_superposed.pdb\")\n",
    "ref_mp2"
   ]
  },
  {
   "cell_type": "markdown",
   "metadata": {},
   "source": [
    "## Preprocessing data for searches"
   ]
  },
  {
   "cell_type": "code",
   "execution_count": 14,
   "metadata": {},
   "outputs": [
    {
     "data": {
      "text/plain": [
       "[(0, 3), (3, 12), (12, 14), (3, 5), (5, 8), (8, 10)]"
      ]
     },
     "execution_count": 14,
     "metadata": {},
     "output_type": "execute_result"
    }
   ],
   "source": [
    "zmat = zmatrix.zmat(\"asp_ref_order.tpl\",[(1, 4), (4, 13), (13, 15), (4, 6), (6, 9), (9, 11)],fmt=\"gau\")\n",
    "RB = zmat.rot_bonds\n",
    "RB"
   ]
  },
  {
   "cell_type": "code",
   "execution_count": 15,
   "metadata": {},
   "outputs": [],
   "source": [
    "molecule = ga_utils.linear_molecule(\"asp_ref_order.tpl\",[(1, 4), (4, 13), (13, 15), (4, 6), (6, 9), (9, 11)])"
   ]
  },
  {
   "cell_type": "markdown",
   "metadata": {},
   "source": [
    "# Load and check data from replica 1"
   ]
  },
  {
   "cell_type": "code",
   "execution_count": 16,
   "metadata": {},
   "outputs": [],
   "source": [
    "run_dir = \"/home/gmancini/data/devel/ML/Systems_for_paper2/AsparticAcid/dftba/\""
   ]
  },
  {
   "cell_type": "code",
   "execution_count": 17,
   "metadata": {},
   "outputs": [],
   "source": [
    "log_prefix = \"asp_dftba_constr_R1\"\n",
    "traj_prefix = \"asp_dftba_constr_R1\""
   ]
  },
  {
   "cell_type": "code",
   "execution_count": 18,
   "metadata": {},
   "outputs": [],
   "source": [
    "r1_dir = run_dir + \"DFTBA_constr_R1/Log\"\n",
    "os.chdir(r1_dir)"
   ]
  },
  {
   "cell_type": "code",
   "execution_count": 19,
   "metadata": {},
   "outputs": [
    {
     "data": {
      "text/plain": [
       "[(0, 3), (3, 12), (12, 14), (3, 5), (5, 8), (8, 10)]"
      ]
     },
     "execution_count": 19,
     "metadata": {},
     "output_type": "execute_result"
    }
   ],
   "source": [
    "RB"
   ]
  },
  {
   "cell_type": "code",
   "execution_count": 20,
   "metadata": {},
   "outputs": [
    {
     "name": "stdout",
     "output_type": "stream",
     "text": [
      "Loading pdb trajectory\n",
      "<mdtraj.Trajectory with 3086 frames, 16 atoms, 1 residues, without unitcells>\n",
      "3138 log files in directory, 52 not loaded\n"
     ]
    }
   ],
   "source": [
    "if not os.path.isfile(\"traj_\" + traj_prefix + \".pdb\"):\n",
    "    nfiles = len([name for name in os.listdir('.') if os.path.isfile(name)])\n",
    "    print(\"Found \",nfiles,\" log files\")\n",
    "    Nok, Nerror, S1_DF = load_store.get_from_log(log_prefix, style=\"DFT\", caller=\"g16\", RB=RB, molecule=molecule)\n",
    "    print(\"Success optimizations: {0:d} error optimizations {1:d}\".format(Nok, Nerror))\n",
    "    print(\"Loading xyz traj ...\")\n",
    "    traj = md.load(\"traj_\" + traj_prefix+\".xyz\",top=top_dir+\"/frame0_b3lyp.pdb\")\n",
    "    traj.save_pdb(\"traj_\" + traj_prefix + \".pdb\")\n",
    "    pd.to_pickle(S1_DF, traj_prefix+\".data.xz\")\n",
    "else:\n",
    "    print(\"Loading pdb trajectory\")\n",
    "    traj = md.load(\"traj_\" + traj_prefix + \".pdb\")\n",
    "    print(traj)\n",
    "    files = os.listdir(r1_dir)\n",
    "    L = len([i for i in files if re.search(\"log\",i) is not None])\n",
    "    print(\"{0:d} log files in directory, {1:d} not loaded\".format(L,L-len(traj.xyz)))\n",
    "    S1_DF = pd.read_pickle(traj_prefix+\".data.xz\")"
   ]
  },
  {
   "cell_type": "markdown",
   "metadata": {},
   "source": [
    "### 2 Compare"
   ]
  },
  {
   "cell_type": "code",
   "execution_count": 21,
   "metadata": {},
   "outputs": [
    {
     "data": {
      "text/plain": [
       "(-25.13344211674264, 0.009191890371559321, -25.07667657, -25.1592152965)"
      ]
     },
     "execution_count": 21,
     "metadata": {},
     "output_type": "execute_result"
    }
   ],
   "source": [
    "EN = pd.to_numeric(S1_DF['energy'])\n",
    "np.mean(EN), np.std(EN), np.max(EN), np.min(EN)"
   ]
  },
  {
   "cell_type": "code",
   "execution_count": 22,
   "metadata": {},
   "outputs": [
    {
     "data": {
      "text/plain": [
       "(0, -25.1592152965)"
      ]
     },
     "execution_count": 22,
     "metadata": {},
     "output_type": "execute_result"
    }
   ],
   "source": [
    "GEM1 = EN.idxmin()\n",
    "GEM1, EN.loc[GEM1]"
   ]
  },
  {
   "cell_type": "code",
   "execution_count": 23,
   "metadata": {},
   "outputs": [
    {
     "data": {
      "text/plain": [
       "0   -25.159215\n",
       "Name: energy, dtype: float64"
      ]
     },
     "execution_count": 23,
     "metadata": {},
     "output_type": "execute_result"
    }
   ],
   "source": [
    "EN[EN==EN.loc[GEM1]].value_counts(),\n",
    "EN[EN==EN.loc[GEM1]]"
   ]
  },
  {
   "cell_type": "code",
   "execution_count": 24,
   "metadata": {},
   "outputs": [
    {
     "data": {
      "text/html": [
       "<div>\n",
       "<style scoped>\n",
       "    .dataframe tbody tr th:only-of-type {\n",
       "        vertical-align: middle;\n",
       "    }\n",
       "\n",
       "    .dataframe tbody tr th {\n",
       "        vertical-align: top;\n",
       "    }\n",
       "\n",
       "    .dataframe thead th {\n",
       "        text-align: right;\n",
       "    }\n",
       "</style>\n",
       "<table border=\"1\" class=\"dataframe\">\n",
       "  <thead>\n",
       "    <tr style=\"text-align: right;\">\n",
       "      <th></th>\n",
       "      <th>(0, 3)</th>\n",
       "      <th>(3, 12)</th>\n",
       "      <th>(12, 14)</th>\n",
       "      <th>(3, 5)</th>\n",
       "      <th>(5, 8)</th>\n",
       "      <th>(8, 10)</th>\n",
       "      <th>energy</th>\n",
       "      <th>filename</th>\n",
       "    </tr>\n",
       "  </thead>\n",
       "  <tbody>\n",
       "    <tr>\n",
       "      <th>0</th>\n",
       "      <td>-36.464006</td>\n",
       "      <td>14.537949</td>\n",
       "      <td>-176.917022</td>\n",
       "      <td>174.520959</td>\n",
       "      <td>-9.233957</td>\n",
       "      <td>179.185984</td>\n",
       "      <td>-25.159215</td>\n",
       "      <td>asp_dftba_constr_R1_00001.log.bz2</td>\n",
       "    </tr>\n",
       "    <tr>\n",
       "      <th>1</th>\n",
       "      <td>-170.475563</td>\n",
       "      <td>-138.079079</td>\n",
       "      <td>63.771662</td>\n",
       "      <td>-176.942745</td>\n",
       "      <td>38.153788</td>\n",
       "      <td>51.883719</td>\n",
       "      <td>-25.129296</td>\n",
       "      <td>asp_dftba_constr_R1_00002.log.bz2</td>\n",
       "    </tr>\n",
       "    <tr>\n",
       "      <th>2</th>\n",
       "      <td>179.814642</td>\n",
       "      <td>-148.986001</td>\n",
       "      <td>168.686084</td>\n",
       "      <td>-138.102197</td>\n",
       "      <td>113.649599</td>\n",
       "      <td>-143.885570</td>\n",
       "      <td>-25.147082</td>\n",
       "      <td>asp_dftba_constr_R1_00003.log.bz2</td>\n",
       "    </tr>\n",
       "    <tr>\n",
       "      <th>3</th>\n",
       "      <td>-179.999978</td>\n",
       "      <td>68.167347</td>\n",
       "      <td>-68.630215</td>\n",
       "      <td>95.994912</td>\n",
       "      <td>90.350474</td>\n",
       "      <td>-179.999967</td>\n",
       "      <td>-25.137169</td>\n",
       "      <td>asp_dftba_constr_R1_00004.log.bz2</td>\n",
       "    </tr>\n",
       "    <tr>\n",
       "      <th>4</th>\n",
       "      <td>94.916442</td>\n",
       "      <td>-60.607781</td>\n",
       "      <td>-96.608466</td>\n",
       "      <td>163.878002</td>\n",
       "      <td>80.820223</td>\n",
       "      <td>-82.639945</td>\n",
       "      <td>-25.119761</td>\n",
       "      <td>asp_dftba_constr_R1_00005.log.bz2</td>\n",
       "    </tr>\n",
       "    <tr>\n",
       "      <th>...</th>\n",
       "      <td>...</td>\n",
       "      <td>...</td>\n",
       "      <td>...</td>\n",
       "      <td>...</td>\n",
       "      <td>...</td>\n",
       "      <td>...</td>\n",
       "      <td>...</td>\n",
       "      <td>...</td>\n",
       "    </tr>\n",
       "    <tr>\n",
       "      <th>3081</th>\n",
       "      <td>-166.940162</td>\n",
       "      <td>-70.501754</td>\n",
       "      <td>-153.531217</td>\n",
       "      <td>-11.555565</td>\n",
       "      <td>80.860867</td>\n",
       "      <td>67.885297</td>\n",
       "      <td>-25.133144</td>\n",
       "      <td>asp_dftba_constr_R1_03134.log.bz2</td>\n",
       "    </tr>\n",
       "    <tr>\n",
       "      <th>3082</th>\n",
       "      <td>-166.940162</td>\n",
       "      <td>-70.501754</td>\n",
       "      <td>-153.531217</td>\n",
       "      <td>-11.555565</td>\n",
       "      <td>80.860867</td>\n",
       "      <td>67.885297</td>\n",
       "      <td>-25.133144</td>\n",
       "      <td>asp_dftba_constr_R1_03135.log.bz2</td>\n",
       "    </tr>\n",
       "    <tr>\n",
       "      <th>3083</th>\n",
       "      <td>-166.940162</td>\n",
       "      <td>-70.501754</td>\n",
       "      <td>-153.531217</td>\n",
       "      <td>-11.555565</td>\n",
       "      <td>80.860867</td>\n",
       "      <td>67.885297</td>\n",
       "      <td>-25.133144</td>\n",
       "      <td>asp_dftba_constr_R1_03136.log.bz2</td>\n",
       "    </tr>\n",
       "    <tr>\n",
       "      <th>3084</th>\n",
       "      <td>-166.940153</td>\n",
       "      <td>-70.501407</td>\n",
       "      <td>-153.532642</td>\n",
       "      <td>-11.555610</td>\n",
       "      <td>116.846314</td>\n",
       "      <td>179.999999</td>\n",
       "      <td>-25.143179</td>\n",
       "      <td>asp_dftba_constr_R1_03137.log.bz2</td>\n",
       "    </tr>\n",
       "    <tr>\n",
       "      <th>3085</th>\n",
       "      <td>-166.940153</td>\n",
       "      <td>-70.501407</td>\n",
       "      <td>-153.532642</td>\n",
       "      <td>-11.555610</td>\n",
       "      <td>116.846314</td>\n",
       "      <td>179.999999</td>\n",
       "      <td>-25.143179</td>\n",
       "      <td>asp_dftba_constr_R1_03138.log.bz2</td>\n",
       "    </tr>\n",
       "  </tbody>\n",
       "</table>\n",
       "<p>3086 rows × 8 columns</p>\n",
       "</div>"
      ],
      "text/plain": [
       "          (0, 3)     (3, 12)    (12, 14)      (3, 5)      (5, 8)     (8, 10)  \\\n",
       "0     -36.464006   14.537949 -176.917022  174.520959   -9.233957  179.185984   \n",
       "1    -170.475563 -138.079079   63.771662 -176.942745   38.153788   51.883719   \n",
       "2     179.814642 -148.986001  168.686084 -138.102197  113.649599 -143.885570   \n",
       "3    -179.999978   68.167347  -68.630215   95.994912   90.350474 -179.999967   \n",
       "4      94.916442  -60.607781  -96.608466  163.878002   80.820223  -82.639945   \n",
       "...          ...         ...         ...         ...         ...         ...   \n",
       "3081 -166.940162  -70.501754 -153.531217  -11.555565   80.860867   67.885297   \n",
       "3082 -166.940162  -70.501754 -153.531217  -11.555565   80.860867   67.885297   \n",
       "3083 -166.940162  -70.501754 -153.531217  -11.555565   80.860867   67.885297   \n",
       "3084 -166.940153  -70.501407 -153.532642  -11.555610  116.846314  179.999999   \n",
       "3085 -166.940153  -70.501407 -153.532642  -11.555610  116.846314  179.999999   \n",
       "\n",
       "         energy                           filename  \n",
       "0    -25.159215  asp_dftba_constr_R1_00001.log.bz2  \n",
       "1    -25.129296  asp_dftba_constr_R1_00002.log.bz2  \n",
       "2    -25.147082  asp_dftba_constr_R1_00003.log.bz2  \n",
       "3    -25.137169  asp_dftba_constr_R1_00004.log.bz2  \n",
       "4    -25.119761  asp_dftba_constr_R1_00005.log.bz2  \n",
       "...         ...                                ...  \n",
       "3081 -25.133144  asp_dftba_constr_R1_03134.log.bz2  \n",
       "3082 -25.133144  asp_dftba_constr_R1_03135.log.bz2  \n",
       "3083 -25.133144  asp_dftba_constr_R1_03136.log.bz2  \n",
       "3084 -25.143179  asp_dftba_constr_R1_03137.log.bz2  \n",
       "3085 -25.143179  asp_dftba_constr_R1_03138.log.bz2  \n",
       "\n",
       "[3086 rows x 8 columns]"
      ]
     },
     "execution_count": 24,
     "metadata": {},
     "output_type": "execute_result"
    }
   ],
   "source": [
    "S1_DF"
   ]
  },
  {
   "cell_type": "code",
   "execution_count": 25,
   "metadata": {},
   "outputs": [],
   "source": [
    "Edelta = har2kjmol*(EN.values - EN[GEM1])"
   ]
  },
  {
   "cell_type": "code",
   "execution_count": 26,
   "metadata": {},
   "outputs": [
    {
     "data": {
      "text/plain": [
       "(0.0, 50.0)"
      ]
     },
     "execution_count": 26,
     "metadata": {},
     "output_type": "execute_result"
    },
    {
     "data": {
      "image/png": "[encoded data removed]",
      "text/plain": [
       "<Figure size 432x288 with 2 Axes>"
      ]
     },
     "metadata": {
      "needs_background": "light"
     },
     "output_type": "display_data"
    }
   ],
   "source": [
    "plt.subplot(121)\n",
    "plt.plot(Edelta)\n",
    "\n",
    "plt.subplot(122)\n",
    "plt.plot(Edelta)\n",
    "plt.ylim(0,50)"
   ]
  },
  {
   "cell_type": "code",
   "execution_count": 27,
   "metadata": {},
   "outputs": [
    {
     "data": {
      "text/plain": [
       "<mdtraj.Trajectory with 3086 frames, 16 atoms, 1 residues, without unitcells at 0x7f366425bc40>"
      ]
     },
     "execution_count": 27,
     "metadata": {},
     "output_type": "execute_result"
    }
   ],
   "source": [
    "traj"
   ]
  },
  {
   "cell_type": "code",
   "execution_count": 28,
   "metadata": {},
   "outputs": [],
   "source": [
    "use_polar_hydrogens = False"
   ]
  },
  {
   "cell_type": "code",
   "execution_count": 29,
   "metadata": {},
   "outputs": [
    {
     "data": {
      "text/plain": [
       "array([ 0,  3,  5,  8,  9, 10, 12, 13, 14])"
      ]
     },
     "execution_count": 29,
     "metadata": {},
     "output_type": "execute_result"
    }
   ],
   "source": [
    "heavyat"
   ]
  },
  {
   "cell_type": "code",
   "execution_count": 30,
   "metadata": {},
   "outputs": [
    {
     "data": {
      "text/plain": [
       "array([   0,  100,  200,  300,  400,  500,  600,  700,  800,  900, 1000,\n",
       "       1100, 1200, 1300, 1400, 1500, 1600, 1700, 1800, 1900, 2000, 2100,\n",
       "       2200, 2300, 2400, 2500, 2600, 2700, 2800, 2900, 3000, 3100])"
      ]
     },
     "execution_count": 30,
     "metadata": {},
     "output_type": "execute_result"
    }
   ],
   "source": [
    "windows = np.arange(0,traj.n_frames+100,100)\n",
    "windows"
   ]
  },
  {
   "cell_type": "code",
   "execution_count": 31,
   "metadata": {},
   "outputs": [],
   "source": [
    "Energy = np.loadtxt(top_dir+\"/Energies.txt\")"
   ]
  },
  {
   "cell_type": "code",
   "execution_count": 32,
   "metadata": {},
   "outputs": [],
   "source": [
    "cutoff = 0.02\n",
    "use_polar_hydrogens = False"
   ]
  },
  {
   "cell_type": "code",
   "execution_count": 33,
   "metadata": {},
   "outputs": [
    {
     "data": {
      "text/plain": [
       "(19, 3086)"
      ]
     },
     "execution_count": 33,
     "metadata": {},
     "output_type": "execute_result"
    }
   ],
   "source": [
    "RMSD = np.empty((ref_mp2.n_frames, traj.n_frames))\n",
    "if use_polar_hydrogens:\n",
    "    for i in range(ref_mp2.n_frames):\n",
    "        for j in range(traj.n_frames):\n",
    "            X1 = ref_mp2[i].xyz[0]\n",
    "            X2 = traj[j].xyz[0]\n",
    "            rmsd = MDArms.rmsd(X1[atom_indices],X2[atom_indices],superposition=True,weights=atmass[atom_indices])\n",
    "            RMSD[i,j] = rmsd\n",
    "else:\n",
    "    for i in range(ref_mp2.n_frames):\n",
    "        for j in range(traj.n_frames):\n",
    "            X1 = ref_mp2[i].xyz[0]\n",
    "            X2 = traj[j].xyz[0]\n",
    "            rmsd = MDArms.rmsd(X1[heavyat],X2[heavyat],superposition=True,weights=atmass[heavyat])\n",
    "            RMSD[i,j] = rmsd    \n",
    "RMSD.shape"
   ]
  },
  {
   "cell_type": "code",
   "execution_count": 34,
   "metadata": {},
   "outputs": [],
   "source": [
    "data, neighs = make_data(cutoff,ref_mp2, traj, RMSD)"
   ]
  },
  {
   "cell_type": "code",
   "execution_count": 35,
   "metadata": {},
   "outputs": [
    {
     "data": {
      "image/png": "[encoded data removed]",
      "text/plain": [
       "<Figure size 720x288 with 6 Axes>"
      ]
     },
     "metadata": {},
     "output_type": "display_data"
    }
   ],
   "source": [
    "fig = plt.figure(figsize=(10,4), facecolor='w', edgecolor='k')\n",
    "\n",
    "ax0 = plt.subplot(231)\n",
    "plt.title('not found',fontsize=10)\n",
    "plt.plot(data[:,0],data[:,1],'go-',linewidth=1)\n",
    "\n",
    "ax1 = plt.subplot(232)\n",
    "plt.title('min(E)',fontsize=10)\n",
    "plt.plot(data[:,0],data[:,2],'go-',linewidth=1)\n",
    "#ax1.yaxis.tick_right()\n",
    "\n",
    "ax2 = plt.subplot(233)\n",
    "plt.title('sum(E)$',fontsize=10)\n",
    "plt.plot(data[:,0],data[:,3],'go-',linewidth=1)\n",
    "#ax2.yaxis.tick_right()\n",
    "\n",
    "ax3 = plt.subplot(234)\n",
    "plt.title('mean(E)',fontsize=10)\n",
    "plt.plot(data[:,0],data[:,4],'go-',linewidth=1)\n",
    "\n",
    "ax4 = plt.subplot(235)\n",
    "plt.title('std(E)',fontsize=10)\n",
    "plt.plot(data[:,0],data[:,5],'go-',linewidth=1)\n",
    "\n",
    "ax5 = plt.subplot(236)\n",
    "plt.title('low E',fontsize=10)\n",
    "plt.plot(data[:,0],data[:,6],'go-',linewidth=1)\n",
    "#ax5.yaxis.tick_right()\n",
    "\n",
    "plt.tight_layout()\n",
    "plt.subplots_adjust(left=0.1,\n",
    "                    bottom=0.1, \n",
    "                    right=0.9, \n",
    "                    top=0.9, \n",
    "                    wspace=0.3, \n",
    "                    hspace=0.3)\n",
    "\n",
    "plt.savefig(run_dir+\"/Run1_Asp_dftba.png\", dpi=300, bbox_inches=\"tight\")"
   ]
  },
  {
   "cell_type": "code",
   "execution_count": 36,
   "metadata": {},
   "outputs": [
    {
     "data": {
      "text/plain": [
       "array([ 5,  1,  1,  6,  1,  0,  5,  0,  8,  0, 10,  0,  1, 12,  0, 25,  1,\n",
       "        2,  2])"
      ]
     },
     "execution_count": 36,
     "metadata": {},
     "output_type": "execute_result"
    }
   ],
   "source": [
    "neighs"
   ]
  },
  {
   "cell_type": "code",
   "execution_count": 37,
   "metadata": {},
   "outputs": [
    {
     "name": "stdout",
     "output_type": "stream",
     "text": [
      "5 2 0.22837120971355815 17.434433968648214 12.023236321539216 87.17216984324108\n"
     ]
    }
   ],
   "source": [
    "not_found = ref_mp2.n_frames - np.count_nonzero(neighs)\n",
    "if not_found > 0:\n",
    "    low_e  = np.count_nonzero(Energy[np.where([neighs==0])[1],3]<=15.)\n",
    "    min_e = np.min(Energy[np.where([neighs==0])[1],3])\n",
    "    ave_e = np.mean(Energy[np.where([neighs==0])[1],3])\n",
    "    std_e = np.std(Energy[np.where([neighs==0])[1],3])\n",
    "    sum_e = np.sum(Energy[np.where([neighs==0])[1],3])\n",
    "    print(not_found, low_e, min_e, ave_e, std_e, sum_e)"
   ]
  },
  {
   "cell_type": "code",
   "execution_count": 38,
   "metadata": {},
   "outputs": [
    {
     "data": {
      "text/plain": [
       "'/home/gmancini/data/devel/ML/Systems_for_paper2/AsparticAcid'"
      ]
     },
     "execution_count": 38,
     "metadata": {},
     "output_type": "execute_result"
    }
   ],
   "source": [
    "top_dir"
   ]
  },
  {
   "cell_type": "code",
   "execution_count": 39,
   "metadata": {},
   "outputs": [
    {
     "data": {
      "text/plain": [
       "array([   0,  100,  200,  300,  400,  500,  600,  700,  800,  900, 1000,\n",
       "       1100, 1200, 1300, 1400, 1500, 1600, 1700, 1800, 1900, 2000, 2100,\n",
       "       2200, 2300, 2400, 2500, 2600, 2700, 2800, 2900, 3000, 3100])"
      ]
     },
     "execution_count": 39,
     "metadata": {},
     "output_type": "execute_result"
    }
   ],
   "source": [
    "windows = np.arange(0,traj.n_frames+100,100)\n",
    "windows"
   ]
  },
  {
   "cell_type": "code",
   "execution_count": 40,
   "metadata": {},
   "outputs": [
    {
     "name": "stdout",
     "output_type": "stream",
     "text": [
      "After 0 optimizations 19 structures do not have neighbours\n",
      "After 100 optimizations 15 structures do not have neighbours\n",
      "After 200 optimizations 15 structures do not have neighbours\n",
      "After 300 optimizations 14 structures do not have neighbours\n",
      "After 400 optimizations 13 structures do not have neighbours\n",
      "After 500 optimizations 13 structures do not have neighbours\n",
      "After 600 optimizations 13 structures do not have neighbours\n",
      "After 700 optimizations 13 structures do not have neighbours\n",
      "After 800 optimizations 11 structures do not have neighbours\n",
      "After 900 optimizations 11 structures do not have neighbours\n",
      "After 1000 optimizations 9 structures do not have neighbours\n",
      "After 1100 optimizations 9 structures do not have neighbours\n",
      "After 1200 optimizations 8 structures do not have neighbours\n",
      "After 1300 optimizations 7 structures do not have neighbours\n",
      "After 1400 optimizations 7 structures do not have neighbours\n",
      "After 1500 optimizations 7 structures do not have neighbours\n",
      "After 1600 optimizations 7 structures do not have neighbours\n",
      "After 1700 optimizations 7 structures do not have neighbours\n",
      "After 1800 optimizations 7 structures do not have neighbours\n",
      "After 1900 optimizations 7 structures do not have neighbours\n",
      "After 2000 optimizations 7 structures do not have neighbours\n",
      "After 2100 optimizations 7 structures do not have neighbours\n",
      "After 2200 optimizations 7 structures do not have neighbours\n",
      "After 2300 optimizations 7 structures do not have neighbours\n",
      "After 2400 optimizations 7 structures do not have neighbours\n",
      "After 2500 optimizations 5 structures do not have neighbours\n",
      "After 2600 optimizations 5 structures do not have neighbours\n",
      "After 2700 optimizations 5 structures do not have neighbours\n",
      "After 2800 optimizations 5 structures do not have neighbours\n",
      "After 2900 optimizations 5 structures do not have neighbours\n",
      "After 3000 optimizations 5 structures do not have neighbours\n",
      "After 3100 optimizations 5 structures do not have neighbours\n"
     ]
    }
   ],
   "source": [
    "cutoff = 0.02\n",
    "for W in windows:\n",
    "    neighs = np.empty(ref_mp2.n_frames)\n",
    "    for ref_frame in range(ref_mp2.n_frames):\n",
    "        RR = RMSD[ref_frame,:W]\n",
    "        within = RR[RR <= cutoff]\n",
    "        neighs[ref_frame] = len(within)\n",
    "    result = ref_mp2.n_frames - np.count_nonzero(neighs)\n",
    "    print(\"After {0:d} optimizations {1:d} structures do not have neighbours\".format(W,result))"
   ]
  },
  {
   "cell_type": "code",
   "execution_count": 41,
   "metadata": {},
   "outputs": [
    {
     "data": {
      "text/plain": [
       "array([ 5,  7,  9, 11, 14])"
      ]
     },
     "execution_count": 41,
     "metadata": {},
     "output_type": "execute_result"
    }
   ],
   "source": [
    "np.where(neighs==0)[0]"
   ]
  },
  {
   "cell_type": "code",
   "execution_count": 42,
   "metadata": {},
   "outputs": [
    {
     "data": {
      "text/plain": [
       "0.020742266267546473"
      ]
     },
     "execution_count": 42,
     "metadata": {},
     "output_type": "execute_result"
    }
   ],
   "source": [
    "np.min(RMSD[np.where(neighs==0)[0]])"
   ]
  },
  {
   "cell_type": "code",
   "execution_count": 43,
   "metadata": {},
   "outputs": [
    {
     "data": {
      "text/plain": [
       "0.020742266267546473"
      ]
     },
     "execution_count": 43,
     "metadata": {},
     "output_type": "execute_result"
    }
   ],
   "source": [
    "np.min(RMSD[np.where(neighs==0)[0]])"
   ]
  },
  {
   "cell_type": "code",
   "execution_count": 44,
   "metadata": {},
   "outputs": [
    {
     "name": "stdout",
     "output_type": "stream",
     "text": [
      "[[-5.12492939e+02 -5.09638758e+02  5.66757943e+00  2.28371210e-01]\n",
      " [-5.12397599e+02 -5.09628941e+02  2.55983931e+02  2.60022527e+01]\n",
      " [-5.12491972e+02 -5.09630454e+02  8.20536113e+00  2.20291523e+01]\n",
      " [-5.12494828e+02 -5.09636283e+02  7.08877026e-01  6.72732298e+00]\n",
      " [-5.12490247e+02 -5.09626586e+02  1.27349282e+01  3.21850707e+01]]\n"
     ]
    }
   ],
   "source": [
    "print(Energy[np.where(neighs==0)[0]])"
   ]
  }
 ],
 "metadata": {
  "kernelspec": {
   "display_name": "Python 3 (ipykernel)",
   "language": "python",
   "name": "python3"
  },
  "language_info": {
   "codemirror_mode": {
    "name": "ipython",
    "version": 3
   },
   "file_extension": ".py",
   "mimetype": "text/x-python",
   "name": "python",
   "nbconvert_exporter": "python",
   "pygments_lexer": "ipython3",
   "version": "3.8.10"
  }
 },
 "nbformat": 4,
 "nbformat_minor": 2
}
